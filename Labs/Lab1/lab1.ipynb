{
 "cells": [
  {
   "cell_type": "markdown",
   "id": "ad62f313",
   "metadata": {},
   "source": [
    "\n",
    "# 实用统计软件第一次实验"
   ]
  },
  {
   "cell_type": "markdown",
   "id": "1dc97b2c",
   "metadata": {},
   "source": [
    "这次实验主要是让大家安装一下`R`、`Rstudio`和`Anaconda`.\n",
    "\n",
    "## 安装调试R与Rstudio\n",
    "\n",
    "+ 参考课件或者[百度链接](https://cloud.tencent.com/developer/article/1390625)安装R与Rstudio，熟悉各个窗口\n",
    "\n",
    "+ 新建ass文件夹，并在该文件夹中建立一个新的项目study\n",
    "\n",
    "+ 通过Rstudio安装`Bess`包\n",
    "\n",
    "+ 使用`Rmarkdown`运行如下命令，并撰写一个带有你的学号与名字的报告\n"
   ]
  },
  {
   "cell_type": "code",
   "execution_count": null,
   "id": "ffb3ed3f",
   "metadata": {},
   "outputs": [],
   "source": [
    "## 向量\n",
    "a <- c(3, 5, 10, 5, 6)\n",
    "a[1]\n",
    "\n",
    "## 画图\n",
    "x <- seq(0,2*pi,0.01)\n",
    "plot(sin(x))\n",
    "\n",
    "\n",
    "## 安装包\n",
    "if (!require(\"BeSS\")) install.packages(\"BeSS\")\n",
    "library(BeSS)\n",
    "\n",
    "data <- gen.data(n=500, p=20, family = \"gaussian\", K=10)\n",
    "fit  <- bess(data$x, data$y)\n",
    "print(fit)\n"
   ]
  },
  {
   "cell_type": "markdown",
   "id": "96c97142",
   "metadata": {},
   "source": [
    "最后结果上传`.rmd`文件和`.html`文件( Rmarkdown生成html参考[百度链接](https://bookdown.org/qiushi/rmarkdown-guide/))\n",
    "\n",
    "Rmarkdown参考教程: https://bookdown.org/qiushi/rmarkdown-guide/"
   ]
  },
  {
   "cell_type": "markdown",
   "id": "8d0ee54c",
   "metadata": {},
   "source": [
    "\n",
    "## 安装Anaconda\n",
    "\n",
    "+ 参考课件或者[百度链接](https://zhuanlan.zhihu.com/p/75717350)安装`Anaconda`\n",
    "\n",
    "+ 安装`numpy` 、`pandas`、`matplotlib`、`jupyter notebook ` 4个库，熟悉spyder\n",
    "\n",
    "+ 在`jupyter notebook `里运行如下命令(jupyter notebook教程可以参考[百度链接](https://zhuanlan.zhihu.com/p/36764170))，并撰写一个带有你名字学号的实验报告\n"
   ]
  },
  {
   "cell_type": "code",
   "execution_count": 1,
   "id": "3c0d6b51",
   "metadata": {},
   "outputs": [],
   "source": [
    "## 导入库\n",
    "import pandas as pd\n",
    "import numpy as np\n",
    "import matplotlib.pyplot as plt"
   ]
  },
  {
   "cell_type": "code",
   "execution_count": 2,
   "id": "5e246de0",
   "metadata": {},
   "outputs": [
    {
     "data": {
      "text/plain": [
       "3"
      ]
     },
     "execution_count": 2,
     "metadata": {},
     "output_type": "execute_result"
    }
   ],
   "source": [
    "## numpy数组\n",
    "a=np.array([3, 5, 10, 5, 6])\n",
    "a[0]"
   ]
  },
  {
   "cell_type": "code",
   "execution_count": 3,
   "id": "fc37e386",
   "metadata": {},
   "outputs": [
    {
     "data": {
      "image/png": "[encoded data removed]",
      "text/plain": [
       "<Figure size 432x288 with 1 Axes>"
      ]
     },
     "metadata": {
      "needs_background": "light"
     },
     "output_type": "display_data"
    }
   ],
   "source": [
    "## 使用matplotlib画图\n",
    "x=np.arange(0,2*np.pi,0.1)\n",
    "plt.plot(np.sin(x))\n",
    "plt.show()"
   ]
  },
  {
   "cell_type": "code",
   "execution_count": 4,
   "id": "81f9a317",
   "metadata": {},
   "outputs": [
    {
     "data": {
      "text/plain": [
       "0    1.0\n",
       "1    3.0\n",
       "2    5.0\n",
       "3    NaN\n",
       "4    6.0\n",
       "5    8.0\n",
       "dtype: float64"
      ]
     },
     "execution_count": 4,
     "metadata": {},
     "output_type": "execute_result"
    }
   ],
   "source": [
    "## 测试pandas\n",
    "s = pd.Series([1, 3, 5, np.nan, 6, 8])\n",
    "s"
   ]
  },
  {
   "cell_type": "markdown",
   "id": "a6abafe0",
   "metadata": {},
   "source": [
    "最后结果上传`.ipynb`文件和`.html`文件 (jupyter notebook导出html参考[百度链接](https://blog.csdn.net/fwj_ntu/article/details/116060710))\n"
   ]
  }
 ],
 "metadata": {
  "kernelspec": {
   "display_name": "Python 3 (ipykernel)",
   "language": "python",
   "name": "python3"
  },
  "language_info": {
   "codemirror_mode": {
    "name": "ipython",
    "version": 3
   },
   "file_extension": ".py",
   "mimetype": "text/x-python",
   "name": "python",
   "nbconvert_exporter": "python",
   "pygments_lexer": "ipython3",
   "version": "3.9.10"
  }
 },
 "nbformat": 4,
 "nbformat_minor": 5
}
